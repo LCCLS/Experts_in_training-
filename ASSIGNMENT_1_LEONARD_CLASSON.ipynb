{
 "cells": [
  {
   "cell_type": "code",
   "execution_count": null,
   "metadata": {},
   "outputs": [],
   "source": [
    "#Assignment 1a) Average \n",
    "\n",
    "\n",
    "import statistics\n",
    "var1 = 1\n",
    "var2 = 2\n",
    "var3 = 3\n",
    "list_ = [var1, var2, var3]\n",
    "average = statistics.fmean(list_)\n",
    "print(f'The average of {var1}, {var2}, and {var3} is: {average}')"
   ]
  },
  {
   "cell_type": "code",
   "execution_count": 7,
   "metadata": {},
   "outputs": [
    {
     "name": "stdout",
     "output_type": "stream",
     "text": [
      "The total amount for this order is 773.25,-\n"
     ]
    }
   ],
   "source": [
    "# Assignment 1b) Book prices\n",
    "\n",
    "\n",
    "n_books = 30\n",
    "customer_is_bookstore = False\n",
    "\n",
    "\n",
    "def price_books(price):\n",
    "    \"\"\"Returns total amount in Euros\n",
    "    \n",
    "    Args:\n",
    "      an integer representing the price of the book\n",
    "      \n",
    "      \n",
    "    Returns:\n",
    "      a string containing the total amount to be paid ba the customer.\n",
    "\n",
    "   \"\"\"\n",
    "    shipping = 3 + (n_books - 1) * 0.75\n",
    "    if customer_is_bookstore:\n",
    "        total = ((price * n_books) * 0.7) + shipping\n",
    "        return f'The total amount for this order is {total:.2f},-'\n",
    "    elif not customer_is_bookstore:\n",
    "        total = price * n_books + shipping\n",
    "        return f'The total amount for this order is {total:.2f},-'\n",
    "    else:\n",
    "        raise ValueError(f\"Error: customer_is_bookstore must either be True or False! \")\n",
    "\n",
    "\n",
    "print(price_books(24.95))"
   ]
  },
  {
   "cell_type": "code",
   "execution_count": 97,
   "metadata": {},
   "outputs": [
    {
     "name": "stdout",
     "output_type": "stream",
     "text": [
      "0\n",
      "3\n",
      "369\n"
     ]
    }
   ],
   "source": [
    "#Assignment 1c) modulus operator  \n",
    "\n",
    "print(10%2)\n",
    "print(15%4)\n",
    "print(3113%686)"
   ]
  },
  {
   "cell_type": "code",
   "execution_count": 100,
   "metadata": {},
   "outputs": [
    {
     "name": "stdout",
     "output_type": "stream",
     "text": [
      "amount in $: 234.45\n",
      "\n",
      "Dollars:    234.0\n",
      "Quarters:   1.0\n",
      "Dimes:      2.0\n",
      "Nickels:    0.0\n",
      "Pennies:    0.0\n",
      "\n"
     ]
    }
   ],
   "source": [
    "# Assignment 1c) Cashier Help \n",
    "\n",
    "amount_input = float(input('amount in $: '))\n",
    "\n",
    "\n",
    "def cashier_helper(amount):\n",
    "    \"\"\"\n",
    "    Returns the amount in cash to be returned in amount of dollars, quarters, dimes, nickels, and pennies.\n",
    "    \n",
    "    Args:\n",
    "    an integer representing the amount in dollars to be converted to the amount of change\n",
    "    \n",
    "    \n",
    "    Returns:\n",
    "    a string containing the amount of change to be handed out by the cashier.\n",
    "\n",
    "\"\"\"\n",
    "    total_cents = amount * 100\n",
    "    cents_remainder = total_cents % 100\n",
    "    dollars = (total_cents - cents_remainder) // 100\n",
    "    quarters_remainder = cents_remainder % 25\n",
    "    quarters = (cents_remainder - quarters_remainder) // 25\n",
    "    dimes_remainder = quarters_remainder % 10\n",
    "    dimes = (quarters_remainder - dimes_remainder) // 10\n",
    "    nickels_remainder = dimes_remainder % 5\n",
    "    nickels = (dimes_remainder - nickels_remainder) // 5\n",
    "    pennies_remainder = nickels_remainder % 1\n",
    "    pennies = (nickels_remainder - pennies_remainder) // 1\n",
    "    return f\"\"\"\n",
    "Dollars:    {dollars}\n",
    "Quarters:   {quarters}\n",
    "Dimes:      {dimes}\n",
    "Nickels:    {nickels}\n",
    "Pennies:    {pennies}\n",
    "\"\"\"\n",
    "\n",
    "\n",
    "print(cashier_helper(amount_input))"
   ]
  },
  {
   "cell_type": "code",
   "execution_count": 96,
   "metadata": {},
   "outputs": [
    {
     "name": "stdout",
     "output_type": "stream",
     "text": [
      "Hello  my  name is Leo\n",
      "Hello my name is Leo\n",
      "Hello 1  my 5\n",
      "Hello my name is Leo\n",
      "Hello1 my5\n"
     ]
    }
   ],
   "source": [
    "# Assigment 2) '+', and ',' difference \n",
    "\n",
    "string1 = 'Hello'\n",
    "string2 = ' my'\n",
    "string3 = ' name is Leo'\n",
    "int_1 = 1\n",
    "int_2 = 5\n",
    "print(string1, string2, string3)\n",
    "print(string1+string2+string3)\n",
    "\n",
    "print(string1, int_1, string2, int_2)\n",
    "\n",
    "new_variable = string1 + string2 + string3\n",
    "print(new_variable)\n",
    "new_variable2 = string1 + str(int_1) + string2 + str(int_2)\n",
    "print(new_variable2)\n"
   ]
  },
  {
   "cell_type": "code",
   "execution_count": 16,
   "metadata": {},
   "outputs": [
    {
     "name": "stdout",
     "output_type": "stream",
     "text": [
      "Hello there what is your name?\n",
      "--leo\n",
      "nice to meet you, leo. How old are you? \n",
      "--57\n",
      "I am 23 years old. That makes you 34 older than me.\n"
     ]
    }
   ],
   "source": [
    "# Assignment 2b) Small Talk\n",
    "\n",
    "\n",
    "print('Hello there what is your name?')\n",
    "input_ = input('--')\n",
    "print(f'nice to meet you, {input_}. How old are you? ')\n",
    "age = int(input('--'))\n",
    "own_age = 23\n",
    "if age > own_age:\n",
    "    print(f'I am 23 years old. That makes you {age - own_age} older than me.')\n",
    "else:\n",
    "    print(f'i am 23 years old. that makes you {own_age-age} younger than me. ')"
   ]
  },
  {
   "cell_type": "code",
   "execution_count": 98,
   "metadata": {
    "scrolled": true
   },
   "outputs": [
    {
     "name": "stdout",
     "output_type": "stream",
     "text": [
      "hello\n",
      "\n",
      "To print a newline use \\n\n",
      "She said: 'hello'\n",
      "\tThis is indented\n",
      "This is a very, very, very, very, very, very long print statement\n",
      "\n",
      "This is a multi-line print statement\n",
      "First line\n",
      "Second line\n",
      "\n"
     ]
    }
   ],
   "source": [
    "print('hello\\n')\n",
    "print('To print a newline use \\\\n')\n",
    "print('She said: \\'hello\\'')\n",
    "print('\\tThis is indented')\n",
    "print('This is a very, very, very, very, very, very \\\n",
    "long print statement')\n",
    "print('''\n",
    "This is a multi-line print statement\n",
    "First line\n",
    "Second line\n",
    "''')"
   ]
  },
  {
   "cell_type": "code",
   "execution_count": 17,
   "metadata": {},
   "outputs": [
    {
     "name": "stdout",
     "output_type": "stream",
     "text": [
      "\t| | |\n",
      "\t @ @ \n",
      "\t  u  \n",
      "\t|\"\"\"|\n"
     ]
    }
   ],
   "source": [
    "# Assignment 3a) Drawing Figures \n",
    "\n",
    "\n",
    "print('\\t| | |\\n\\t @ @ \\n\\t  u  \\n\\t|\"\"\"|')\n"
   ]
  },
  {
   "cell_type": "code",
   "execution_count": null,
   "metadata": {},
   "outputs": [],
   "source": [
    "#Assignment 3b) Colours\n",
    "\n",
    "\n",
    "colour = input('What is your favourite colour?: ')\n",
    "text = colour + (' ' + colour) * 8 + ' ' + colour\n",
    "print(text)\n",
    "text = colour + ' ' * len((' ' + colour) * 8) + ' ' + colour\n",
    "print(text)\n",
    "print(text)\n",
    "text = colour + (' ' + colour) * 8 + ' ' + colour\n",
    "print(text)\n"
   ]
  },
  {
   "cell_type": "code",
   "execution_count": 22,
   "metadata": {},
   "outputs": [
    {
     "name": "stdout",
     "output_type": "stream",
     "text": [
      "453\n"
     ]
    }
   ],
   "source": [
    "text = \"\"\"But I must explain to you how all this mistaken idea of denouncing pleasure and praising pain was born \n",
    "and I will give you a complete account of the system, and expound the actual teachings of the great explorer of the \n",
    "truth, the master-builder of human happiness. No one rejects, dislikes, or avoids pleasure itself, because it is \n",
    "pleasure, but because those who do not know how to pursue pleasure rationally encounter consequences that are \n",
    "extremely painful. Nor again is there anyone who loves or pursues or desires to obtain pain of itself, because it is \n",
    "pain, but because occasionally circumstances occur in which toil and pain can procure him some great pleasure. \n",
    "To take a trivial example, which of us ever undertakes laborious physical exercise, except to obtain some advantage \n",
    "from it? But who has any right to find fault with a man who chooses to enjoy a pleasure that has no annoying \n",
    "consequences, or one who avoids a pain that produces no resultant pleasure? On the other hand, we denounce with \n",
    "righteous indignation and dislike men who are so beguiled and demoralized by the charms of pleasure of the moment, \n",
    "so blinded by desire, that they cannot foresee the pain and trouble that are bound to ensue; and equal blame belongs \n",
    "to those who fail in their duty through weakness of will, which is the same as saying through shrinking from toil \n",
    "and pain.\"\"\"\n",
    "\n",
    "vowels = 'a', 'e', 'i', 'o', 'u', 'A', 'E', 'I', 'O', 'U'\n",
    "\n",
    "def check_vow(string, vowels):\n",
    "    list_ = [i for i in string if i in vowels]\n",
    "    print(len(list_))\n",
    "\n",
    "    \n",
    "    \n",
    "check_vow(text, vowels)"
   ]
  },
  {
   "cell_type": "code",
   "execution_count": 99,
   "metadata": {},
   "outputs": [
    {
     "name": "stdout",
     "output_type": "stream",
     "text": [
      "the\n",
      "quick\n",
      "brown\n",
      "fox\n",
      "jumps\n",
      "over\n",
      "a\n",
      "lazy\n",
      "dog\n",
      "djs\n",
      "flock\n",
      "by\n",
      "when\n",
      "mtv\n",
      "ax\n",
      "quiz\n",
      "progjunk\n",
      "mtv\n",
      "quiz\n",
      "graced\n",
      "by\n",
      "fox\n",
      "whelps\n",
      "bawds\n",
      "jog\n",
      "flick\n",
      "quartz\n",
      "vex\n",
      "nymphswaltz\n",
      "bad\n",
      "nymph\n",
      "for\n",
      "quick\n",
      "jigs\n",
      "vex\n",
      "fox\n",
      "nymphs\n",
      "grab\n",
      "quick-jived\n",
      "waltzbrick\n",
      "quiz\n",
      "whangs\n",
      "jumpy\n",
      "veldt\n",
      "fox\n"
     ]
    }
   ],
   "source": [
    "text = \"\"\"           The quick, brown fox jumps over a lazy dog.\\tDJs flock by when MTV ax quiz prog.\n",
    "Junk MTV quiz graced by fox whelps.\\tBawds jog, flick quartz, vex nymphs.\n",
    "Waltz, bad nymph, for quick jigs vex!\\tFox nymphs grab quick-jived waltz.\n",
    "Brick quiz whangs jumpy veldt fox.       \"\"\"\n",
    "text = text.replace(',','')\n",
    "text = text.replace('\\n', '')\n",
    "text = text.replace('\\t', ' ')\n",
    "text = text.replace('.', '')\n",
    "text = text.replace('!', '')\n",
    "text = text.lower()\n",
    "text = text.strip()\n",
    "text = text.replace(' ', '\\n')\n",
    "print(text)"
   ]
  },
  {
   "cell_type": "code",
   "execution_count": 26,
   "metadata": {},
   "outputs": [
    {
     "name": "stdout",
     "output_type": "stream",
     "text": [
      "Enter Password: Bluemchen0!\n",
      "Password accepted.\n"
     ]
    }
   ],
   "source": [
    "#Assignment 4c)\n",
    "input_ = str(input('Enter Password: '))\n",
    "\n",
    "\n",
    "def password_check(password):\n",
    "    if len(password) < 6:\n",
    "        print('Error: Your password should contain at least 6 characters.')\n",
    "    elif len(password) > 12:\n",
    "        print('Error: Your password should contain no more than 12 characters.')\n",
    "    elif password.isalpha():\n",
    "        print('Error: Your password only contains alphabetic characters! Please also use digits and/or special '\n",
    "              'characters.')\n",
    "    elif password.isdigit():\n",
    "        print('Error: Your password only contains digits! Please also use alphabetic and/or special characters.')#\n",
    "    elif password.isalnum():\n",
    "        print('Error: Your password should contain at least one special character.')\n",
    "    elif password == password.lower():\n",
    "        print('Error: Your password contains only lowercase letters! Please also use uppercase letters.')\n",
    "    elif password == password.upper():\n",
    "        print('Error: Your password contains only uppercase letters! Please also use lowercase letters.')\n",
    "    else:\n",
    "        print('Password accepted.')\n",
    "\n",
    "\n",
    "password_check(input_)"
   ]
  },
  {
   "cell_type": "code",
   "execution_count": 31,
   "metadata": {},
   "outputs": [
    {
     "name": "stdout",
     "output_type": "stream",
     "text": [
      "Big Ticket\n"
     ]
    }
   ],
   "source": [
    "#Exercise 5a) Speeding \n",
    "\n",
    "speed = 401\n",
    "birthday = True\n",
    "\n",
    "if not birthday:\n",
    "    if speed <= 60:\n",
    "        print('no ticket')\n",
    "    elif 60 < speed <= 80:\n",
    "        print('small ticket')\n",
    "    else:\n",
    "        print('Big Ticket')\n",
    "\n",
    "elif birthday:\n",
    "    if speed <= 300:\n",
    "        print('no ticket')\n",
    "    elif 300 < speed <= 400:\n",
    "        print('small ticket')\n",
    "    else:\n",
    "        print('Big Ticket')"
   ]
  },
  {
   "cell_type": "code",
   "execution_count": 32,
   "metadata": {},
   "outputs": [
    {
     "name": "stdout",
     "output_type": "stream",
     "text": [
      "\n",
      "For which day should the alarm be set?\n",
      "Sun = 0\n",
      "Mon = 1\n",
      "Tue = 2\n",
      "Wed = 3\n",
      "Thu = 4\n",
      "Fri = 5\n",
      "Sat = 6\n",
      "\n",
      ">> 5\n",
      "10.00\n"
     ]
    }
   ],
   "source": [
    "#Exercise 5B) Alarm \n",
    "\n",
    "\n",
    "day = int(input(\"\"\"\n",
    "For which day should the alarm be set?\n",
    "Sun = 0\n",
    "Mon = 1\n",
    "Tue = 2\n",
    "Wed = 3\n",
    "Thu = 4\n",
    "Fri = 5\n",
    "Sat = 6\n",
    "\n",
    ">> \"\"\"\n",
    "               ))\n",
    "alarm = ''\n",
    "vacation = b\n",
    "\n",
    "if not vacation:\n",
    "    if 1 <= day <= 5:\n",
    "        alarm = '7:00'\n",
    "        print(alarm)\n",
    "    elif day == 0 or 6:\n",
    "        alarm = '10:00'\n",
    "        print(alarm)\n",
    "    else:\n",
    "        print('day has to be number between 0-6')\n",
    "\n",
    "if vacation:\n",
    "    if 1 <= day <= 5:\n",
    "        alarm = '10.00'\n",
    "        print(alarm)\n",
    "    elif day == 0 or 6:\n",
    "        alarm = 'no alarm'\n",
    "        print(alarm)\n",
    "    else:\n",
    "        print('day has to be number between 0-6')"
   ]
  },
  {
   "cell_type": "code",
   "execution_count": 33,
   "metadata": {},
   "outputs": [
    {
     "name": "stdout",
     "output_type": "stream",
     "text": [
      "How heavy is the parcel? -- 7\n",
      "\n",
      "EUR 1\n",
      "EUR 2\n",
      "World\n",
      "\n",
      "In which of the three Zones will the parcel be sent to? --\n",
      "EUR 1\n",
      "The price of a 7kg parcel to the EUR 1 zone is $25.0.\n"
     ]
    }
   ],
   "source": [
    "#Assignment 5c) Parcel costs \n",
    "\n",
    "weight = int(input('How heavy is the parcel? -- '))\n",
    "zone = str(input(\"\"\"\n",
    "EUR 1\n",
    "EUR 2\n",
    "World\n",
    "\n",
    "In which of the three Zones will the parcel be sent to? --\n",
    "\"\"\"))\n",
    "postage = 0.00\n",
    "\n",
    "if zone == 'EUR 1':\n",
    "    if 0 <= weight <= 2:\n",
    "        postage = 13.00\n",
    "    elif 2 < weight <= 5:\n",
    "        postage = 19.50\n",
    "    elif 5 < weight <= 10:\n",
    "        postage = 25.00\n",
    "    elif 10 < weight <= 20:\n",
    "        postage = 34.00\n",
    "    elif 20 < weight <= 30:\n",
    "        postage = 45.00\n",
    "    else:\n",
    "        print('Package too heavy.')\n",
    "elif zone == 'EUR 2':\n",
    "    if 0 <= weight <= 2:\n",
    "        postage = 18.50\n",
    "    elif 2 < weight <= 5:\n",
    "        postage = 25.00\n",
    "    elif 5 < weight <= 10:\n",
    "       postage = 31.00\n",
    "    elif 10 < weight <= 20:\n",
    "        postage = 40.00\n",
    "    elif 20 < weight <= 30:\n",
    "        postage = 55.00\n",
    "    else:\n",
    "        print('Package too heavy.')\n",
    "\n",
    "elif zone == 'World':\n",
    "    if 0 <= weight <= 2:\n",
    "        postage = 24.30\n",
    "    elif 2 < weight <= 5:\n",
    "        postage = 34.30\n",
    "    elif 5 < weight <= 10:\n",
    "        postage = 58.30\n",
    "    elif 10 < weight <= 20:\n",
    "        postage = 105.30\n",
    "    else:\n",
    "        print('Package too heavy.')\n",
    "\n",
    "print(f'The price of a {weight}kg parcel to the {zone} zone is ${postage}.')"
   ]
  }
 ],
 "metadata": {
  "kernelspec": {
   "display_name": "Python 3",
   "language": "python",
   "name": "python3"
  },
  "language_info": {
   "codemirror_mode": {
    "name": "ipython",
    "version": 3
   },
   "file_extension": ".py",
   "mimetype": "text/x-python",
   "name": "python",
   "nbconvert_exporter": "python",
   "pygments_lexer": "ipython3",
   "version": "3.8.5"
  }
 },
 "nbformat": 4,
 "nbformat_minor": 4
}
