{
 "cells": [
  {
   "cell_type": "code",
   "execution_count": 1,
   "id": "6905c47b",
   "metadata": {},
   "outputs": [
    {
     "name": "stdout",
     "output_type": "stream",
     "text": [
      "The average of 3, 6 and 9 is: 6.0\n"
     ]
    }
   ],
   "source": [
    "#EXERCISE 1A\n",
    "# average code \n",
    "var1 = 3 \n",
    "var2 = 6 \n",
    "var3 = 9\n",
    "average = (var1 + var2 + var3)/3\n",
    "print(f\"The average of {var1}, {var2} and {var3} is: {average}\")"
   ]
  },
  {
   "cell_type": "code",
   "execution_count": 2,
   "id": "6d298fd3",
   "metadata": {},
   "outputs": [
    {
     "name": "stdout",
     "output_type": "stream",
     "text": [
      "Enter number of books: 4\n",
      "The cost for 4 books is 35.19 for bookstores and 105.05 for online customers\n"
     ]
    }
   ],
   "source": [
    "#EXERCISE 1B\n",
    "# complete the code below\n",
    "\n",
    "n_books = int(input(\"Enter number of books: \"))\n",
    "shipping_cost = 3 + (0.75 * (n_books - 1))\n",
    "customer_is_bookstore = (n_books * ((24.95/100) * 30)) + shipping_cost\n",
    "customer_is_onlinestore = n_books * 24.95 + shipping_cost \n",
    "\n",
    "print(f\"The cost for {n_books} books is {customer_is_bookstore} for bookstores and {customer_is_onlinestore} for online customers\")\n"
   ]
  },
  {
   "cell_type": "code",
   "execution_count": 3,
   "id": "8c5456a0",
   "metadata": {},
   "outputs": [
    {
     "name": "stdout",
     "output_type": "stream",
     "text": [
      "5\n",
      "12.555555555555555\n"
     ]
    }
   ],
   "source": [
    "#EXERCISE 1C\n",
    "# try out the modulus operator!\n",
    "print(113 % 9)\n",
    "print(113 / 9)\n",
    "# the % operator gives the remainder of a division "
   ]
  },
  {
   "cell_type": "code",
   "execution_count": 4,
   "id": "cbcefb90",
   "metadata": {},
   "outputs": [
    {
     "name": "stdout",
     "output_type": "stream",
     "text": [
      "11.0 2.0 6.0 13.0 67.0\n"
     ]
    }
   ],
   "source": [
    "# cashier code\n",
    "total_amount = int(11.67*100)\n",
    "dollars = (total_amount-(total_amount%100))/100   \n",
    "quarters = ((total_amount%100)-(total_amount%25))/25\n",
    "dimes = ((total_amount%100)-(total_amount%10))/10\n",
    "nickles = ((total_amount%100)-(total_amount%5))/5\n",
    "pennies = ((total_amount%100)-(total_amount%1))/1 \n",
    "print(dollars, quarters, dimes, nickles, pennies )"
   ]
  },
  {
   "cell_type": "code",
   "execution_count": 5,
   "id": "f820848a",
   "metadata": {},
   "outputs": [
    {
     "name": "stdout",
     "output_type": "stream",
     "text": [
      "My name is Elena\n",
      "My name is  Elena\n",
      "I was born in 1999\n",
      "I was born in  1999\n",
      "My name is Elena\n",
      "('My name is ', 'Elena')\n",
      "My name is ElenaI was born in 1999\n",
      "('My name is ', 'Elena', 'I was born in ', 1999)\n"
     ]
    }
   ],
   "source": [
    "#EXERCISE 2A\n",
    "#difference between \",\" and \"+\"\n",
    "name = \"My name is \"\n",
    "name1 = \"Elena\"\n",
    "age = \"I was born in \"\n",
    "age1 = 1999\n",
    "print(name + name1)\n",
    "print(name, name1)\n",
    "print(age + str(age1)) #you can't concatenate an int and a str with the \"+\" sign \n",
    "print(age, age1)\n",
    "variable = name + name1 \n",
    "variable1 = name, name1\n",
    "variable2 = name + name1 + str(age) + str(age1)\n",
    "variable3 = name, name1, age, age1\n",
    "print(variable)\n",
    "print(variable1)\n",
    "print(variable2)\n",
    "print(variable3)"
   ]
  },
  {
   "cell_type": "code",
   "execution_count": 6,
   "id": "6efe8ac1",
   "metadata": {},
   "outputs": [
    {
     "name": "stdout",
     "output_type": "stream",
     "text": [
      "Hello there! What is your name?Alex\n",
      "Nice to meet you, Alex. How old are you?24\n",
      "I'm 22 years old, so I'm 2 younger than you.\n"
     ]
    }
   ],
   "source": [
    "#EXERCISE 2B\n",
    "name = input(\"Hello there! What is your name?\")\n",
    "age = input(f\"Nice to meet you, {name}. How old are you?\")\n",
    "my_age = str(22)\n",
    "if age > my_age: \n",
    "    difference = int(age)-int(my_age) \n",
    "    print(f\"I'm {my_age} years old, so I'm {difference} younger than you.\")\n",
    "elif age < my_age: \n",
    "    difference1 = int(my_age)-int(age)\n",
    "    print(f\"I'm {my_age} years old, so I'm {difference1} older than you.\")\n",
    "else: \n",
    "    print(f\"I'm {my_age} years old, so we are the same age!\")"
   ]
  },
  {
   "cell_type": "code",
   "execution_count": 7,
   "id": "c6e01317",
   "metadata": {},
   "outputs": [
    {
     "name": "stdout",
     "output_type": "stream",
     "text": [
      "hello\n",
      "\n",
      "To print a newline use \\n\n",
      "She said: 'hello'\n",
      "\tThis is indented\n",
      "This is a very, very, very, very, very, very long print statement\n",
      "\n",
      "This is a multi-line print statement\n",
      "First line\n",
      "Second line\n",
      "\n"
     ]
    }
   ],
   "source": [
    "#EXERCISE 3A\n",
    "print('hello\\n')\n",
    "print('To print a newline use \\\\n')\n",
    "print('She said: \\'hello\\'')\n",
    "print('\\tThis is indented')\n",
    "print('This is a very, very, very, very, very, very \\\n",
    "long print statement')\n",
    "print('''\n",
    "This is a multi-line print statement\n",
    "First line\n",
    "Second line\n",
    "''')"
   ]
  },
  {
   "cell_type": "code",
   "execution_count": 8,
   "id": "47585efb",
   "metadata": {},
   "outputs": [
    {
     "name": "stdout",
     "output_type": "stream",
     "text": [
      "\t| | |\n",
      "\t @ @ \n",
      "\t  u\n",
      "\t|\"\"\"| \n"
     ]
    }
   ],
   "source": [
    "print('\\t| | |\\n\\t @ @ \\n\\t  u\\n\\t|\"\"\"| ')"
   ]
  },
  {
   "cell_type": "code",
   "execution_count": 9,
   "id": "b953a13c",
   "metadata": {},
   "outputs": [
    {
     "name": "stdout",
     "output_type": "stream",
     "text": [
      "the cat is on the mat\n",
      "thethethethethe\n",
      "The first character of cat is c\n",
      "The word c has, 3 characters\n"
     ]
    }
   ],
   "source": [
    "#EXERCISE 3B\n",
    "b = 'the'\n",
    "c = 'cat'\n",
    "d = ' is on the mat'\n",
    "a = b + ' ' + c + d\n",
    "print(a)\n",
    "a = b * 5\n",
    "print(a)\n",
    "print('The first character of', c, 'is' , c[0])\n",
    "print('The word c has,', len(c) ,'characters')"
   ]
  },
  {
   "cell_type": "code",
   "execution_count": 10,
   "id": "87a9e2d5",
   "metadata": {},
   "outputs": [
    {
     "name": "stdout",
     "output_type": "stream",
     "text": [
      "what is your favorite color? yellow\n",
      "yellow yellow yellow yellow yellow yellow yellow yellow yellow yellow yellow\n",
      "yellow                                                                yellow\n",
      "yellow                                                                yellow\n",
      "yellow yellow yellow yellow yellow yellow yellow yellow yellow yellow yellow\n"
     ]
    }
   ],
   "source": [
    "color = input('what is your favorite color? ')\n",
    "print(color + (\" \" + color)*10)\n",
    "print(color + \" \" * len((\" \" + color)*9) + \" \" + color)\n",
    "print(color + \" \" * len((\" \" + color)*9) + \" \" + color)\n",
    "print(color + (\" \" + color)*10)"
   ]
  },
  {
   "cell_type": "code",
   "execution_count": 11,
   "id": "b7575e4e",
   "metadata": {},
   "outputs": [
    {
     "name": "stdout",
     "output_type": "stream",
     "text": [
      "a:98, e:132, i:76, o:94, u:53\n"
     ]
    }
   ],
   "source": [
    "#EXERCISE 4A\n",
    "text = \"\"\"But I must explain to you how all this mistaken idea of denouncing pleasure and praising pain was born \n",
    "and I will give you a complete account of the system, and expound the actual teachings of the great explorer of the \n",
    "truth, the master-builder of human happiness. No one rejects, dislikes, or avoids pleasure itself, because it is \n",
    "pleasure, but because those who do not know how to pursue pleasure rationally encounter consequences that are \n",
    "extremely painful. Nor again is there anyone who loves or pursues or desires to obtain pain of itself, because it is \n",
    "pain, but because occasionally circumstances occur in which toil and pain can procure him some great pleasure. \n",
    "To take a trivial example, which of us ever undertakes laborious physical exercise, except to obtain some advantage \n",
    "from it? But who has any right to find fault with a man who chooses to enjoy a pleasure that has no annoying \n",
    "consequences, or one who avoids a pain that produces no resultant pleasure? On the other hand, we denounce with \n",
    "righteous indignation and dislike men who are so beguiled and demoralized by the charms of pleasure of the moment, \n",
    "so blinded by desire, that they cannot foresee the pain and trouble that are bound to ensue; and equal blame belongs \n",
    "to those who fail in their duty through weakness of will, which is the same as saying through shrinking from toil \n",
    "and pain.\"\"\"\n",
    "\n",
    "# your code here\n",
    "text1 = text.lower()\n",
    "a = text1.count(\"a\")\n",
    "e = text1.count(\"e\")\n",
    "i = text1.count(\"i\")\n",
    "o = text1.count(\"o\")\n",
    "u = text1.count(\"u\")\n",
    "print(f\"a:{a}, e:{e}, i:{i}, o:{o}, u:{u}\")"
   ]
  },
  {
   "cell_type": "code",
   "execution_count": 12,
   "id": "c333bf35",
   "metadata": {},
   "outputs": [
    {
     "name": "stdout",
     "output_type": "stream",
     "text": [
      "the\n",
      "quick\n",
      "brown\n",
      "fox\n",
      "jumps\n",
      "over\n",
      "a\n",
      "lazy\n",
      "dogdjs\n",
      "flock\n",
      "by\n",
      "when\n",
      "mtv\n",
      "ax\n",
      "quiz\n",
      "prog\n",
      "junk\n",
      "mtv\n",
      "quiz\n",
      "graced\n",
      "by\n",
      "fox\n",
      "whelpsbawds\n",
      "jog\n",
      "flick\n",
      "quartz\n",
      "vex\n",
      "nymphs\n",
      "waltz\n",
      "bad\n",
      "nymph\n",
      "for\n",
      "quick\n",
      "jigs\n",
      "vexfox\n",
      "nymphs\n",
      "grab\n",
      "quickjived\n",
      "waltz\n",
      "brick\n",
      "quiz\n",
      "whangs\n",
      "jumpy\n",
      "veldt\n",
      "fox\n"
     ]
    }
   ],
   "source": [
    "#EXERCISE 4B \n",
    "text = \"\"\"           The quick, brown fox jumps over a lazy dog.\\tDJs flock by when MTV ax quiz prog. \n",
    "Junk MTV quiz graced by fox whelps.\\tBawds jog, flick quartz, vex nymphs. \n",
    "Waltz, bad nymph, for quick jigs vex!\\tFox nymphs grab quick-jived waltz. \n",
    "Brick quiz whangs jumpy veldt fox.       \"\"\"\n",
    "text = text.replace(\",\", \"\")\n",
    "text = text.replace(\".\", \"\")\n",
    "text = text.replace(\"!\", \"\")\n",
    "text = text.replace(\"-\", \"\")\n",
    "text = text.replace(\"\\n\", \"\")\n",
    "text = text.replace(\"\\t\", \"\")\n",
    "text = text.lower()\n",
    "text = text.strip()\n",
    "text = text.replace(\" \", \"\\n\")\n",
    "\n",
    "\n",
    "print(text)"
   ]
  },
  {
   "cell_type": "code",
   "execution_count": 13,
   "id": "9b674d33",
   "metadata": {},
   "outputs": [
    {
     "name": "stdout",
     "output_type": "stream",
     "text": [
      "Enter a password: aaaBBB\n",
      "Your password only contains alphabetic characters! Please also use digits and/or special characters.\n"
     ]
    }
   ],
   "source": [
    "#EXERCISE 4C\n",
    "# your code here\n",
    "password = input(\"Enter a password: \")\n",
    "if len(password) < 6:\n",
    "    print(\"Your password should contain at least 6 characters.\")\n",
    "elif len(password) > 12:\n",
    "    print(\"Your password should contain no more than 12 characters\")\n",
    "elif password.isalpha():\n",
    "    print(\"Your password only contains alphabetic characters! Please also use digits and/or special characters.\")\n",
    "elif password.isdigit():\n",
    "    print(\"Your password only contains digits! Please also use alphabetic and/or special characters.\")\n",
    "elif password.isalnum():\n",
    "    print(\"Your password should contain at least one special character.\")\n",
    "elif password == password.islower():\n",
    "    print(\"Your password contains only lowercase letters! Please also use uppercase letters.\")\n",
    "elif password == password.isupper():\n",
    "    print(\"Your password contains only uppercase letters! Please also use lowercase letters.\")\n",
    "else:\n",
    "    print(\"Your password is correct\")\n"
   ]
  },
  {
   "cell_type": "code",
   "execution_count": 14,
   "id": "3623bf04",
   "metadata": {},
   "outputs": [
    {
     "name": "stdout",
     "output_type": "stream",
     "text": [
      "Is it your birthday? yes\n",
      "no ticket\n"
     ]
    }
   ],
   "source": [
    "#EXERCISE 5A \n",
    "speed = 65\n",
    "birthday = input(\"Is it your birthday? \")\n",
    "if birthday == \"yes\":\n",
    "    if speed <= 65:\n",
    "        print(\"no ticket\")\n",
    "    elif 66 <= speed <= 85:\n",
    "        print(\"small ticket\")\n",
    "    else: \n",
    "        print(\"big ticket\")\n",
    "else: \n",
    "    if speed <= 60: \n",
    "        print(\"no ticket\")\n",
    "    elif 61 <= speed <= 80: \n",
    "        print(\"small ticket\") \n",
    "    elif speed > 81:\n",
    "        print(\"big ticket\")\n",
    " "
   ]
  },
  {
   "cell_type": "code",
   "execution_count": 17,
   "id": "1abf32d6",
   "metadata": {},
   "outputs": [
    {
     "name": "stdout",
     "output_type": "stream",
     "text": [
      "\n",
      "Write the number of the correspondant day: \n",
      "0 = Sun\n",
      "1 = Mon\n",
      "2 = Tue\n",
      "3 = wed\n",
      "4 = Thur\n",
      "5 = Fri\n",
      "6 = Sat\n",
      "2\n",
      "\n",
      "Are you on vacation\n",
      "yes \n",
      "no \n",
      "yes\n",
      "10:00\n"
     ]
    }
   ],
   "source": [
    "#EXERCISE 5B\n",
    "day = int(input(\"\"\"\n",
    "Write the number of the correspondant day: \n",
    "0 = Sun\n",
    "1 = Mon\n",
    "2 = Tue\n",
    "3 = wed\n",
    "4 = Thur\n",
    "5 = Fri\n",
    "6 = Sat\n",
    "\"\"\"))\n",
    "vacation = input(\"\"\"\n",
    "Are you on vacation\n",
    "yes \n",
    "no \n",
    "\"\"\")\n",
    "vacation = \"yes\" == True \n",
    "vacation = \"no\" == False \n",
    "alarm = \"\"\n",
    "if vacation == True:\n",
    "    if 1 <= day <= 5: \n",
    "        alarm = \"7:00\"\n",
    "        print(alarm)\n",
    "    else:\n",
    "        alarm = \"10:00\"\n",
    "        print(alarm)\n",
    "else: \n",
    "    if 1 <= day <= 5:\n",
    "        alarm = \"10:00\"\n",
    "        print(alarm)\n",
    "    else:\n",
    "        print(\"off\")\n",
    "\n"
   ]
  },
  {
   "cell_type": "code",
   "execution_count": 18,
   "id": "039e6f01",
   "metadata": {},
   "outputs": [
    {
     "name": "stdout",
     "output_type": "stream",
     "text": [
      "Weight in kg of the item: 4\n",
      "\n",
      "Zone of destination: \n",
      "EUR 1\n",
      "EUR 2 \n",
      "World\n",
      "EUR 2\n",
      "The price of sending a 4 kg parcel to the EUR 2 zone is € € 25.00.\n"
     ]
    }
   ],
   "source": [
    "#EXERCISE 5C\n",
    "weight = int(input(\"Weight in kg of the item: \"))\n",
    "zone = str(input(\"\"\"\n",
    "Zone of destination: \n",
    "EUR 1\n",
    "EUR 2 \n",
    "World\n",
    "\"\"\"))\n",
    "postage = \"\"\n",
    "if zone == \"EUR 1\": \n",
    "    if 0 <= weight <= 2: \n",
    "        postage = \"€ 13.00\"\n",
    "    elif 2 < weight <= 5:\n",
    "        postage = \"€ 19.50\"\n",
    "    elif 5 < weight <= 10: \n",
    "        postage = \"€ 25.00\"\n",
    "    elif 10 < weight <= 20:\n",
    "        postage = \"€ 34.00\"\n",
    "    elif 20 < weight <= 30: \n",
    "        postage = \"€ 45.00\"\n",
    "    else: \n",
    "        print(\"Your item can't be delivered\")\n",
    "    \n",
    "elif zone == \"EUR 2\": \n",
    "    if 0 <= weight <= 2: \n",
    "        postage = \"€ 18.50\"\n",
    "    elif 2 < weight <= 5:\n",
    "        postage = \"€ 25.00\"\n",
    "    elif 5 < weight <= 10: \n",
    "        postage = \"€ 31.00\"\n",
    "    elif 10 < weight <= 20:\n",
    "        postage = \"€ 40.00\"\n",
    "    elif 20 < weight <= 30: \n",
    "        postage = \"€ 55.00\"\n",
    "    else: \n",
    "        print(\"Your item can't be delivered\")\n",
    "        \n",
    "elif zone == \"World\":\n",
    "    if 0 <= weight <= 2: \n",
    "        postage = \"€ 24.30\"\n",
    "    elif 2 < weight <= 5:\n",
    "        postage = \"€ 34.30\"\n",
    "    elif 5 < weight <= 10: \n",
    "        postage = \"€ 58.30\"\n",
    "    elif 10 < weight <= 20:\n",
    "        postage = \"€ 105.30\"\n",
    "    elif 20 < weight <= 30: \n",
    "        print(\"Your item can't be delivered\")\n",
    "    else: \n",
    "        print(\"Your item can't be delivered\")\n",
    "\n",
    "print(f\"The price of sending a {weight} kg parcel to the {zone} zone is € {postage}.\")\n"
   ]
  },
  {
   "cell_type": "code",
   "execution_count": null,
   "id": "9b1a9fef",
   "metadata": {},
   "outputs": [],
   "source": []
  }
 ],
 "metadata": {
  "kernelspec": {
   "display_name": "Python 3",
   "language": "python",
   "name": "python3"
  },
  "language_info": {
   "codemirror_mode": {
    "name": "ipython",
    "version": 3
   },
   "file_extension": ".py",
   "mimetype": "text/x-python",
   "name": "python",
   "nbconvert_exporter": "python",
   "pygments_lexer": "ipython3",
   "version": "3.8.8"
  }
 },
 "nbformat": 4,
 "nbformat_minor": 5
}
